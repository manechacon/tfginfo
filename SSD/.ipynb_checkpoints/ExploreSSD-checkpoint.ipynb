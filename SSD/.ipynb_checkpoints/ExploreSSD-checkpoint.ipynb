{
 "cells": [
  {
   "cell_type": "code",
   "execution_count": 1,
   "metadata": {},
   "outputs": [],
   "source": [
    "%load_ext autoreload\n",
    "%autoreload 2"
   ]
  },
  {
   "cell_type": "code",
   "execution_count": 2,
   "metadata": {},
   "outputs": [],
   "source": [
    "import ssd_utils\n",
    "import matplotlib.pyplot as plt\n",
    "from sklearn.neural_network import MLPRegressor\n",
    "from sklearn.metrics import mean_squared_error\n",
    "import numpy as np\n",
    "\n",
    "from sklearn.decomposition import PCA\n",
    "from sklearn.pipeline import Pipeline\n",
    "from sklearn.preprocessing import StandardScaler\n",
    "from sklearn.compose import TransformedTargetRegressor\n",
    "from sklearn.model_selection import GridSearchCV\n",
    "from sklearn.model_selection import KFold\n",
    "from sklearn.linear_model import Ridge\n",
    "import time\n",
    "import joblib\n",
    "import pandas as pd\n"
   ]
  },
  {
   "cell_type": "code",
   "execution_count": 12,
   "metadata": {},
   "outputs": [],
   "source": [
    "data2020 = ssd_utils.get_all_data_2020(norm = False)\n",
    "data2019 = ssd_utils.get_all_data_2019(norm = False)\n",
    "data_train, data_test = ssd_utils.train_test_data_2020(norm = False)"
   ]
  },
  {
   "cell_type": "code",
   "execution_count": 13,
   "metadata": {},
   "outputs": [
    {
     "name": "stdout",
     "output_type": "stream",
     "text": [
      "N.Componentes = 100; --->   MSE = 13.183;   R2 = 86.961 % ---   Time --> 10.80 s *** Error en train: 14.803\n",
      "N.Componentes = 200; --->   MSE = 9.746;   R2 = 90.361 % ---   Time --> 12.68 s *** Error en train: 9.499\n",
      "N.Componentes = 300; --->   MSE = 7.937;   R2 = 92.150 % ---   Time --> 13.99 s *** Error en train: 6.936\n",
      "N.Componentes = 400; --->   MSE = 6.752;   R2 = 93.322 % ---   Time --> 14.69 s *** Error en train: 5.331\n",
      "\n",
      "Tiempo --> 52.16 s\n"
     ]
    }
   ],
   "source": [
    "proves = [j for j in range(100, 500, 100)]\n",
    "ssd_utils.pca_metric_test(data2020, data2019, proves)"
   ]
  },
  {
   "cell_type": "code",
   "execution_count": 14,
   "metadata": {},
   "outputs": [
    {
     "name": "stdout",
     "output_type": "stream",
     "text": [
      "N.Componentes = 100; --->   MSE = 13.183;   R2 = 86.962 % ---   Time --> 48.38 s *** Error en train: 14.795\n",
      "N.Componentes = 200; --->   MSE = 9.737;   R2 = 90.369 % ---   Time --> 59.53 s *** Error en train: 9.484\n"
     ]
    },
    {
     "name": "stderr",
     "output_type": "stream",
     "text": [
      "/home/josem.chacon/miniconda3/lib/python3.8/site-packages/sklearn/decomposition/_fastica.py:118: ConvergenceWarning: FastICA did not converge. Consider increasing tolerance or the maximum number of iterations.\n",
      "  warnings.warn('FastICA did not converge. Consider increasing '\n"
     ]
    },
    {
     "name": "stdout",
     "output_type": "stream",
     "text": [
      "N.Componentes = 300; --->   MSE = 7.927;   R2 = 92.160 % ---   Time --> 70.98 s *** Error en train: 6.920\n"
     ]
    },
    {
     "name": "stderr",
     "output_type": "stream",
     "text": [
      "/home/josem.chacon/miniconda3/lib/python3.8/site-packages/sklearn/decomposition/_fastica.py:118: ConvergenceWarning: FastICA did not converge. Consider increasing tolerance or the maximum number of iterations.\n",
      "  warnings.warn('FastICA did not converge. Consider increasing '\n"
     ]
    },
    {
     "name": "stdout",
     "output_type": "stream",
     "text": [
      "N.Componentes = 400; --->   MSE = 6.750;   R2 = 93.324 % ---   Time --> 85.58 s *** Error en train: 5.317\n",
      "\n",
      "Tiempo --> 264.48 s\n"
     ]
    }
   ],
   "source": [
    "proves = [j for j in range(100, 500, 100)]\n",
    "ssd_utils.ica_metric_test(data2020, data2019, proves)"
   ]
  },
  {
   "cell_type": "code",
   "execution_count": null,
   "metadata": {},
   "outputs": [],
   "source": []
  },
  {
   "cell_type": "code",
   "execution_count": null,
   "metadata": {},
   "outputs": [],
   "source": []
  },
  {
   "cell_type": "code",
   "execution_count": null,
   "metadata": {},
   "outputs": [],
   "source": []
  },
  {
   "cell_type": "code",
   "execution_count": null,
   "metadata": {},
   "outputs": [],
   "source": []
  },
  {
   "cell_type": "code",
   "execution_count": null,
   "metadata": {},
   "outputs": [],
   "source": []
  },
  {
   "cell_type": "code",
   "execution_count": 5,
   "metadata": {},
   "outputs": [],
   "source": [
    "f_name = 'mlp_alpha_search_results.joblib'\n",
    "saved = joblib.load(f_name)\n",
    "f_name_hl = 'mlp_alpha_hl_deeprelu_search_results.joblib'\n",
    "saved_hl = joblib.load(f_name_hl)"
   ]
  },
  {
   "cell_type": "code",
   "execution_count": 19,
   "metadata": {},
   "outputs": [],
   "source": [
    "df_cv_estimator = pd.DataFrame.from_dict(saved.cv_results_)"
   ]
  },
  {
   "cell_type": "code",
   "execution_count": 23,
   "metadata": {},
   "outputs": [
    {
     "data": {
      "text/plain": [
       "[<matplotlib.lines.Line2D at 0x7f890c6a74f0>]"
      ]
     },
     "execution_count": 23,
     "metadata": {},
     "output_type": "execute_result"
    },
    {
     "data": {
      "image/png": "[encoded data removed]",
      "text/plain": [
       "<Figure size 432x288 with 1 Axes>"
      ]
     },
     "metadata": {
      "needs_background": "light"
     },
     "output_type": "display_data"
    }
   ],
   "source": [
    "plt.xscale('log')\n",
    "plt.plot(df_cv_estimator['param_regressor__mlp__alpha'], -df_cv_estimator['mean_test_score'])"
   ]
  },
  {
   "cell_type": "code",
   "execution_count": 6,
   "metadata": {},
   "outputs": [
    {
     "name": "stdout",
     "output_type": "stream",
     "text": [
      "{'regressor__mlp__alpha': 0.0001}\n"
     ]
    }
   ],
   "source": [
    "print(saved.best_params_)"
   ]
  },
  {
   "cell_type": "code",
   "execution_count": 7,
   "metadata": {},
   "outputs": [
    {
     "name": "stdout",
     "output_type": "stream",
     "text": [
      "{'regressor__mlp__alpha': 100.0, 'regressor__mlp__hidden_layer_sizes': (300, 300, 300)}\n"
     ]
    }
   ],
   "source": [
    "print(saved_hl.best_params_)"
   ]
  },
  {
   "cell_type": "code",
   "execution_count": 24,
   "metadata": {},
   "outputs": [
    {
     "name": "stdout",
     "output_type": "stream",
     "text": [
      "13.915585174337016\n"
     ]
    }
   ],
   "source": [
    "estimator1 = saved.best_estimator_\n",
    "recover = estimator1.predict(data_test)\n",
    "print(mean_squared_error(recover, data_test))"
   ]
  },
  {
   "cell_type": "code",
   "execution_count": 9,
   "metadata": {},
   "outputs": [
    {
     "name": "stdout",
     "output_type": "stream",
     "text": [
      "[1e-07 1e-06 1e-05 0.0001 0.001 0.01 0.1 1.0]\n"
     ]
    }
   ],
   "source": [
    "print(saved.cv_results_['param_regressor__mlp__alpha'])"
   ]
  },
  {
   "cell_type": "code",
   "execution_count": 10,
   "metadata": {},
   "outputs": [
    {
     "name": "stdout",
     "output_type": "stream",
     "text": [
      "[ -4.64017224  -4.2666828   -4.16137904  -4.04687135  -4.31014133\n",
      "  -4.50498754  -6.27114285 -12.44468226]\n"
     ]
    }
   ],
   "source": [
    "print(saved.cv_results_['mean_train_score'])"
   ]
  },
  {
   "cell_type": "code",
   "execution_count": 11,
   "metadata": {},
   "outputs": [
    {
     "name": "stdout",
     "output_type": "stream",
     "text": [
      "[-18.33925912 -17.78169463 -17.82747982 -17.32420513 -18.15412662\n",
      " -18.52987599 -19.13314433 -23.88567901]\n"
     ]
    }
   ],
   "source": [
    "print(saved.cv_results_['mean_test_score'])"
   ]
  },
  {
   "cell_type": "code",
   "execution_count": 12,
   "metadata": {},
   "outputs": [
    {
     "name": "stdout",
     "output_type": "stream",
     "text": [
      "-28.343746716522897\n"
     ]
    }
   ],
   "source": [
    "estimator2 = saved_hl.best_estimator_\n",
    "recover = estimator2.predict(data_test)\n",
    "print(-mean_squared_error(recover, data_test))"
   ]
  },
  {
   "cell_type": "code",
   "execution_count": 25,
   "metadata": {},
   "outputs": [],
   "source": [
    "df_cv_estimator = pd.DataFrame.from_dict(saved_hl.cv_results_)"
   ]
  },
  {
   "cell_type": "code",
   "execution_count": 29,
   "metadata": {},
   "outputs": [
    {
     "data": {
      "text/plain": [
       "[<matplotlib.lines.Line2D at 0x7f88e0a0f040>]"
      ]
     },
     "execution_count": 29,
     "metadata": {},
     "output_type": "execute_result"
    },
    {
     "data": {
      "image/png": "[encoded data removed]",
      "text/plain": [
       "<Figure size 432x288 with 1 Axes>"
      ]
     },
     "metadata": {
      "needs_background": "light"
     },
     "output_type": "display_data"
    }
   ],
   "source": [
    "plt.xscale('log')\n",
    "plt.plot(df_cv_estimator['param_regressor__mlp__alpha'], -df_cv_estimator['mean_test_score'], '*')"
   ]
  },
  {
   "cell_type": "code",
   "execution_count": 14,
   "metadata": {},
   "outputs": [
    {
     "name": "stdout",
     "output_type": "stream",
     "text": [
      "[ -6.17118644  -3.79159802  -1.61720196  -5.87814794  -3.45939977\n",
      "  -1.68337695  -6.26969844  -3.35924116  -1.88785105  -6.62288841\n",
      "  -4.95323859  -2.92052165 -12.04609263 -10.94703943  -8.53969516\n",
      " -17.61270267 -15.83798573 -12.11662947 -18.04288253 -15.10456482\n",
      "  -1.58933721  -7.2716067   -5.24479399  -4.28098781 -25.44150635\n",
      " -24.44927964 -23.60412766 -65.50099567 -65.91110084 -68.25367524]\n"
     ]
    }
   ],
   "source": [
    "print(saved_hl.cv_results_['mean_train_score'])"
   ]
  },
  {
   "cell_type": "code",
   "execution_count": 15,
   "metadata": {},
   "outputs": [
    {
     "name": "stdout",
     "output_type": "stream",
     "text": [
      "[-50.46759611 -55.86312406 -62.46100336 -49.99295413 -56.80108057\n",
      " -62.63479537 -49.39915167 -56.40971376 -61.47991653 -49.39608032\n",
      " -54.19899131 -59.63528996 -45.42007942 -48.00463981 -53.59087408\n",
      " -45.14394119 -47.27823856 -51.21692358 -43.92540846 -46.28659602\n",
      " -56.45530238 -40.89466479 -45.01195314 -47.62074483 -43.84624478\n",
      " -44.02260271 -45.27848488 -81.93038434 -83.15222093 -84.24690194]\n"
     ]
    }
   ],
   "source": [
    "print(saved_hl.cv_results_['mean_test_score'])"
   ]
  },
  {
   "cell_type": "code",
   "execution_count": 16,
   "metadata": {},
   "outputs": [
    {
     "name": "stdout",
     "output_type": "stream",
     "text": [
      "-6.279672087614626 -11.880469123272306\n"
     ]
    }
   ],
   "source": [
    "recover_e1train = estimator1.predict(data_train)\n",
    "recover_e2train = estimator2.predict(data_train)\n",
    "\n",
    "print(-mean_squared_error(recover_e1train, data_train), -mean_squared_error(recover_e2train, data_train))"
   ]
  },
  {
   "cell_type": "code",
   "execution_count": null,
   "metadata": {},
   "outputs": [],
   "source": []
  },
  {
   "cell_type": "code",
   "execution_count": null,
   "metadata": {},
   "outputs": [],
   "source": []
  },
  {
   "cell_type": "code",
   "execution_count": null,
   "metadata": {},
   "outputs": [],
   "source": []
  },
  {
   "cell_type": "code",
   "execution_count": null,
   "metadata": {},
   "outputs": [],
   "source": []
  },
  {
   "cell_type": "code",
   "execution_count": null,
   "metadata": {},
   "outputs": [],
   "source": []
  },
  {
   "cell_type": "code",
   "execution_count": 5,
   "metadata": {},
   "outputs": [],
   "source": [
    "f_name = 'results_allyerar_20patience_relu.joblib'\n",
    "saved_data = joblib.load(f_name)"
   ]
  },
  {
   "cell_type": "code",
   "execution_count": 8,
   "metadata": {},
   "outputs": [
    {
     "name": "stdout",
     "output_type": "stream",
     "text": [
      "{'regressor__mlp__alpha': 10.0, 'regressor__mlp__hidden_layer_sizes': 300}\n"
     ]
    }
   ],
   "source": [
    "print(saved_data.best_params_)"
   ]
  },
  {
   "cell_type": "code",
   "execution_count": 6,
   "metadata": {},
   "outputs": [
    {
     "name": "stdout",
     "output_type": "stream",
     "text": [
      "[ -7.11705029  -8.64577293  -7.43281656  -8.77968349  -7.38314906\n",
      "  -8.72882132  -7.61264582 -10.23625375  -9.29926408 -12.92778043\n",
      " -10.94034095 -14.37440902  -8.18709385  -7.95450056  -9.74853396\n",
      " -10.72434504 -22.55006359 -29.93020956 -51.5142303  -73.91836747]\n"
     ]
    }
   ],
   "source": [
    "print(saved_data.cv_results_['mean_train_score'])"
   ]
  },
  {
   "cell_type": "code",
   "execution_count": 9,
   "metadata": {},
   "outputs": [
    {
     "name": "stdout",
     "output_type": "stream",
     "text": [
      "[-24.5695739  -37.40533702 -24.83985514 -37.06053331 -24.82319388\n",
      " -36.9199064  -25.22407695 -36.44751729 -26.35429318 -35.91293201\n",
      " -27.03720015 -35.60129095 -21.24462223 -31.46038933 -23.96677401\n",
      " -28.55886959 -32.36044324 -38.0456208  -56.53687024 -78.90056522]\n"
     ]
    }
   ],
   "source": [
    "print(saved_data.cv_results_['mean_test_score'])"
   ]
  },
  {
   "cell_type": "code",
   "execution_count": 11,
   "metadata": {},
   "outputs": [
    {
     "name": "stdout",
     "output_type": "stream",
     "text": [
      "9.351741983822018\n"
     ]
    }
   ],
   "source": [
    "estimator = saved_data.best_estimator_\n",
    "recover = estimator.predict(data2019)\n",
    "print(mean_squared_error(recover, data2019))"
   ]
  },
  {
   "cell_type": "code",
   "execution_count": null,
   "metadata": {},
   "outputs": [],
   "source": []
  },
  {
   "cell_type": "code",
   "execution_count": null,
   "metadata": {},
   "outputs": [],
   "source": []
  },
  {
   "cell_type": "code",
   "execution_count": 27,
   "metadata": {},
   "outputs": [],
   "source": [
    "from sklearn.linear_model import RidgeCV"
   ]
  },
  {
   "cell_type": "code",
   "execution_count": 16,
   "metadata": {},
   "outputs": [],
   "source": [
    "data_orig_2020 = ssd_utils.extract_data(ssd_utils.read_data_2020())\n",
    "data_orig_2019 = ssd_utils.extract_data(ssd_utils.read_data_2019())"
   ]
  },
  {
   "cell_type": "code",
   "execution_count": 17,
   "metadata": {},
   "outputs": [],
   "source": [
    "# Hacerlo con dataframes (más limpio)\n",
    "data_fwd_2019 = data_orig_2019[1:, :]\n",
    "data_bck_2019 = data_orig_2019[:-1, :]\n",
    "data_fwd_2020 = data_orig_2020[1:, :]\n",
    "data_bck_2020 = data_orig_2020[:-1, :]"
   ]
  },
  {
   "cell_type": "code",
   "execution_count": 56,
   "metadata": {},
   "outputs": [
    {
     "name": "stdout",
     "output_type": "stream",
     "text": [
      "dict_keys(['cv', 'error_score', 'estimator__check_inverse', 'estimator__func', 'estimator__inverse_func', 'estimator__regressor__memory', 'estimator__regressor__steps', 'estimator__regressor__verbose', 'estimator__regressor__std_sc', 'estimator__regressor__ridge', 'estimator__regressor__std_sc__copy', 'estimator__regressor__std_sc__with_mean', 'estimator__regressor__std_sc__with_std', 'estimator__regressor__ridge__alpha', 'estimator__regressor__ridge__copy_X', 'estimator__regressor__ridge__fit_intercept', 'estimator__regressor__ridge__max_iter', 'estimator__regressor__ridge__normalize', 'estimator__regressor__ridge__random_state', 'estimator__regressor__ridge__solver', 'estimator__regressor__ridge__tol', 'estimator__regressor', 'estimator__transformer__copy', 'estimator__transformer__with_mean', 'estimator__transformer__with_std', 'estimator__transformer', 'estimator', 'iid', 'n_jobs', 'param_grid', 'pre_dispatch', 'refit', 'return_train_score', 'scoring', 'verbose'])\n",
      "Fitting 2 folds for each of 9 candidates, totalling 18 fits\n"
     ]
    },
    {
     "name": "stderr",
     "output_type": "stream",
     "text": [
      "[Parallel(n_jobs=5)]: Using backend LokyBackend with 5 concurrent workers.\n",
      "[Parallel(n_jobs=5)]: Done  18 out of  18 | elapsed:   21.8s finished\n"
     ]
    },
    {
     "name": "stdout",
     "output_type": "stream",
     "text": [
      "\n",
      "mlp_grid_search_time: 0.41\n"
     ]
    },
    {
     "data": {
      "text/plain": [
       "['results_ridge_2019.joblib']"
      ]
     },
     "execution_count": 56,
     "metadata": {},
     "output_type": "execute_result"
    }
   ],
   "source": [
    "n_folds = 2\n",
    "kf = KFold(n_folds, shuffle=False)\n",
    "\n",
    "clf = Ridge(alpha = 10.**-4)\n",
    "\n",
    "\n",
    "regr = Pipeline(steps=[('std_sc', StandardScaler()),\n",
    "                       ('ridge', clf)])\n",
    "\n",
    "y_transformer = StandardScaler()\n",
    "inner_estimator = TransformedTargetRegressor(regressor=regr,\n",
    "                                             transformer=y_transformer)\n",
    "\n",
    "l_alpha = [10.**k for k in range(1, 10)]\n",
    "param_grid = {'regressor__ridge__alpha': l_alpha}  \n",
    "\n",
    "cv_estimator = GridSearchCV(inner_estimator, \n",
    "                            param_grid=param_grid, \n",
    "                            cv=kf, \n",
    "                            scoring='neg_mean_squared_error',\n",
    "                            return_train_score=True,\n",
    "                            refit=True,\n",
    "                            n_jobs=5, \n",
    "                            verbose=1)\n",
    "\n",
    "print(cv_estimator.get_params().keys())\n",
    "t_0 = time.time()\n",
    "cv_estimator.fit(data_bck_2019, data_fwd_2019)\n",
    "t_1 = time.time() \n",
    "print(\"\\nmlp_grid_search_time: %.2f\" % ((t_1 - t_0)/60.))\n",
    "        \n",
    "# saving alpha_search in a pickle    \n",
    "f_name = 'results_ridge_2019.joblib'\n",
    "joblib.dump(cv_estimator, f_name, compress=3)"
   ]
  },
  {
   "cell_type": "code",
   "execution_count": 57,
   "metadata": {},
   "outputs": [],
   "source": [
    "f_name = 'results_ridge_2019.joblib'\n",
    "saved_ridge = joblib.load(f_name)"
   ]
  },
  {
   "cell_type": "code",
   "execution_count": 60,
   "metadata": {},
   "outputs": [
    {
     "name": "stdout",
     "output_type": "stream",
     "text": [
      "[{'regressor__ridge__alpha': 10.0}, {'regressor__ridge__alpha': 100.0}, {'regressor__ridge__alpha': 1000.0}, {'regressor__ridge__alpha': 10000.0}, {'regressor__ridge__alpha': 100000.0}, {'regressor__ridge__alpha': 1000000.0}, {'regressor__ridge__alpha': 10000000.0}, {'regressor__ridge__alpha': 100000000.0}, {'regressor__ridge__alpha': 1000000000.0}]\n",
      "[-104.96353237  -83.14779624  -65.04821783  -60.16728701  -69.88948449\n",
      " -103.19670905 -154.56686448 -175.5452201  -178.36351777]\n",
      "{'regressor__ridge__alpha': 10000.0}\n",
      "Error en train (2019): 44.82986891190772\n",
      "Error en test (2020): 51.455471480734396\n"
     ]
    }
   ],
   "source": [
    "print(saved_ridge.cv_results_['params'])\n",
    "print(saved_ridge.cv_results_['mean_test_score'])\n",
    "print(saved_ridge.best_params_)\n",
    "ridge_estimator = saved_ridge.best_estimator_\n",
    "print(\"Error en train (2019): \" + str(mean_squared_error(ridge_estimator.predict(data_bck_2019), data_fwd_2019)))\n",
    "print(\"Error en test (2020): \" + str(mean_squared_error(ridge_estimator.predict(data_bck_2020), data_fwd_2020)))"
   ]
  },
  {
   "cell_type": "code",
   "execution_count": 62,
   "metadata": {},
   "outputs": [
    {
     "data": {
      "text/plain": [
       "92.53683577972434"
      ]
     },
     "execution_count": 62,
     "metadata": {},
     "output_type": "execute_result"
    }
   ],
   "source": [
    "mean_squared_error(data_bck_2020, data_fwd_2020)"
   ]
  },
  {
   "cell_type": "code",
   "execution_count": 63,
   "metadata": {},
   "outputs": [
    {
     "data": {
      "text/plain": [
       "92.81508841151982"
      ]
     },
     "execution_count": 63,
     "metadata": {},
     "output_type": "execute_result"
    }
   ],
   "source": [
    "mean_squared_error(data_bck_2019, data_fwd_2019)"
   ]
  },
  {
   "cell_type": "code",
   "execution_count": null,
   "metadata": {},
   "outputs": [],
   "source": []
  },
  {
   "cell_type": "code",
   "execution_count": 29,
   "metadata": {},
   "outputs": [
    {
     "name": "stdout",
     "output_type": "stream",
     "text": [
      "[[290.65222 290.65222 290.65222 ... 270.65222 271.15222 269.08972]\n",
      " [290.63672 290.63672 290.63672 ... 273.19922 273.44922 269.26172]\n",
      " [290.70438 290.70438 290.70438 ... 272.51688 272.64188 269.07938]\n",
      " ...\n",
      " [278.33978 280.21478 280.46478 ... 233.83977 236.46477 248.96477]\n",
      " [281.91815 279.79315 282.29315 ... 262.04315 254.66814 248.16814]\n",
      " [282.44775 280.01025 286.19775 ... 265.13525 263.69775 265.32275]]\n",
      "(2928, 5865)\n"
     ]
    }
   ],
   "source": [
    "print(data_orig)\n",
    "print(data_orig.shape)"
   ]
  },
  {
   "cell_type": "code",
   "execution_count": 31,
   "metadata": {},
   "outputs": [
    {
     "name": "stdout",
     "output_type": "stream",
     "text": [
      "[[290.63672 290.63672 290.63672 ... 273.19922 273.44922 269.26172]\n",
      " [290.70438 290.70438 290.70438 ... 272.51688 272.64188 269.07938]\n",
      " [290.6279  290.6279  290.6279  ... 272.6279  272.6904  274.8779 ]\n",
      " ...\n",
      " [278.33978 280.21478 280.46478 ... 233.83977 236.46477 248.96477]\n",
      " [281.91815 279.79315 282.29315 ... 262.04315 254.66814 248.16814]\n",
      " [282.44775 280.01025 286.19775 ... 265.13525 263.69775 265.32275]]\n",
      "[[290.65222 290.65222 290.65222 ... 270.65222 271.15222 269.08972]\n",
      " [290.63672 290.63672 290.63672 ... 273.19922 273.44922 269.26172]\n",
      " [290.70438 290.70438 290.70438 ... 272.51688 272.64188 269.07938]\n",
      " ...\n",
      " [277.9718  276.8468  278.2218  ... 248.84682 266.0968  269.4718 ]\n",
      " [278.33978 280.21478 280.46478 ... 233.83977 236.46477 248.96477]\n",
      " [281.91815 279.79315 282.29315 ... 262.04315 254.66814 248.16814]]\n",
      "(2927, 5865)\n",
      "(2927, 5865)\n"
     ]
    }
   ],
   "source": [
    "print(data_fwd)\n",
    "print(data_bck)\n",
    "print(data_fwd.shape)\n",
    "print(data_bck.shape)"
   ]
  }
 ],
 "metadata": {
  "kernelspec": {
   "display_name": "Python 3",
   "language": "python",
   "name": "python3"
  },
  "language_info": {
   "codemirror_mode": {
    "name": "ipython",
    "version": 3
   },
   "file_extension": ".py",
   "mimetype": "text/x-python",
   "name": "python",
   "nbconvert_exporter": "python",
   "pygments_lexer": "ipython3",
   "version": "3.8.5"
  }
 },
 "nbformat": 4,
 "nbformat_minor": 4
}
