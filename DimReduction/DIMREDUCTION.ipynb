{
 "cells": [
  {
   "cell_type": "code",
   "execution_count": 99,
   "metadata": {},
   "outputs": [],
   "source": [
    "import numpy as np\n",
    "import random\n",
    "import math\n",
    "from sklearn.decomposition import PCA\n",
    "from sklearn.decomposition import NMF\n",
    "from timeit import default_timer as timer"
   ]
  },
  {
   "cell_type": "markdown",
   "metadata": {},
   "source": [
    "# LLenado de datos"
   ]
  },
  {
   "cell_type": "code",
   "execution_count": 93,
   "metadata": {},
   "outputs": [],
   "source": [
    "# Retorna un array bidimensional con la base de datos con nindep \n",
    "# parámetros aleatorios y hasta nfeat rellean con datos\n",
    "# dependientes de los anteriores\n",
    "def fill_data(ndata, nfeat, nindep, max_val, max_err, max_mult):\n",
    "    data = np.zeros((ndata, nfeat))\n",
    "    for j in range(nfeat):\n",
    "        if j < (nindep):\n",
    "            for i in range (ndata):\n",
    "                random.seed()\n",
    "                data[i][j] = random.uniform(0, max_val)\n",
    "        else:\n",
    "            random.seed()\n",
    "            mult = random.uniform(1, max_mult)\n",
    "            for i in range (ndata):\n",
    "                random.seed()\n",
    "                err = random.uniform(0, max_err)\n",
    "                data[i][j] = data[i][j%nindep] * mult + err\n",
    "    return data"
   ]
  },
  {
   "cell_type": "code",
   "execution_count": 94,
   "metadata": {},
   "outputs": [],
   "source": [
    "def compute_error(database, recover):\n",
    "    [ndata, nfeat] = database.shape\n",
    "    error = 0\n",
    "    for i in range(ndata):\n",
    "        for j in range(nfeat):\n",
    "            error = error + math.sqrt((database[i][j] - recover[i][j])**2)\n",
    "    return error/(ndata*nfeat*absmax_val)"
   ]
  },
  {
   "cell_type": "code",
   "execution_count": 96,
   "metadata": {},
   "outputs": [],
   "source": [
    "max_val = 10\n",
    "max_err = 0.5\n",
    "max_mult = 2\n",
    "ndata = 5000\n",
    "nfeat = 15\n",
    "nindep = 5\n",
    "database = fill_data(ndata, nfeat, nindep, max_val, max_err, max_mult)"
   ]
  },
  {
   "cell_type": "markdown",
   "metadata": {},
   "source": [
    "## PCA"
   ]
  },
  {
   "cell_type": "code",
   "execution_count": 106,
   "metadata": {},
   "outputs": [
    {
     "name": "stdout",
     "output_type": "stream",
     "text": [
      "32.54 %                  Time --> 0.25 s\n",
      "27.00 %                  Time --> 0.26 s\n",
      "20.05 %                  Time --> 0.25 s\n",
      "12.44 %                  Time --> 0.26 s\n",
      "7.07 %                  Time --> 0.27 s\n",
      "0.72 %    <---------    Time --> 0.26 s\n",
      "0.64 %                  Time --> 0.26 s\n",
      "0.56 %                  Time --> 0.25 s\n",
      "0.47 %                  Time --> 0.26 s\n",
      "0.35 %                  Time --> 0.26 s\n",
      "0.26 %                  Time --> 0.26 s\n",
      "0.20 %                  Time --> 0.24 s\n",
      "0.15 %                  Time --> 0.24 s\n",
      "0.12 %                  Time --> 0.25 s\n",
      "0.07 %                  Time --> 0.26 s\n",
      "\n",
      "Tiempo --> 3.83 s\n"
     ]
    }
   ],
   "source": [
    "start = timer()\n",
    "for i in range(nfeat):\n",
    "    lapstart = timer()\n",
    "    pca = PCA(n_components = i)\n",
    "    reduced_data = pca.fit_transform(database)\n",
    "    recover = pca.inverse_transform(reduced_data)\n",
    "    error = compute_error(database, recover)\n",
    "    lapend = timer()\n",
    "    if (i == nindep):\n",
    "        print(\"%2.2f\" % (error*100) + \" %\" + \"    <---------\"+ \"    Time --> %.2f\" % (lapend - lapstart) + \" s\")\n",
    "    else:\n",
    "        print(\"%2.2f\" % (error*100) + \" %\"+\"              \"+  \"    Time --> %.2f\" % (lapend - lapstart) + \" s\")\n",
    "end = timer()\n",
    "print(\"\\nTiempo --> %.2f\" % (end - start) + \" s\")"
   ]
  },
  {
   "cell_type": "code",
   "execution_count": 103,
   "metadata": {},
   "outputs": [
    {
     "name": "stdout",
     "output_type": "stream",
     "text": [
      "0.007219864838643564\n"
     ]
    }
   ],
   "source": [
    "pca = PCA(n_components = nindep)\n",
    "reduced_data = pca.fit_transform(database)\n",
    "recover = pca.inverse_transform(reduced_data)\n",
    "error = compute_error(database, recover)\n",
    "print(error)"
   ]
  },
  {
   "cell_type": "markdown",
   "metadata": {},
   "source": [
    "# NMF"
   ]
  },
  {
   "cell_type": "code",
   "execution_count": 108,
   "metadata": {},
   "outputs": [
    {
     "name": "stdout",
     "output_type": "stream",
     "text": [
      "28.17 %                Time --> 0.25 s\n"
     ]
    },
    {
     "name": "stderr",
     "output_type": "stream",
     "text": [
      "/home/man3/.local/lib/python3.8/site-packages/sklearn/decomposition/_nmf.py:1076: ConvergenceWarning: Maximum number of iterations 200 reached. Increase it to improve convergence.\n",
      "  warnings.warn(\"Maximum number of iterations %d reached. Increase it to\"\n"
     ]
    },
    {
     "name": "stdout",
     "output_type": "stream",
     "text": [
      "22.17 %                Time --> 0.35 s\n",
      "16.27 %                Time --> 0.35 s\n"
     ]
    },
    {
     "name": "stderr",
     "output_type": "stream",
     "text": [
      "/home/man3/.local/lib/python3.8/site-packages/sklearn/decomposition/_nmf.py:1076: ConvergenceWarning: Maximum number of iterations 200 reached. Increase it to improve convergence.\n",
      "  warnings.warn(\"Maximum number of iterations %d reached. Increase it to\"\n"
     ]
    },
    {
     "name": "stdout",
     "output_type": "stream",
     "text": [
      "8.84 %                Time --> 0.38 s\n"
     ]
    },
    {
     "name": "stderr",
     "output_type": "stream",
     "text": [
      "/home/man3/.local/lib/python3.8/site-packages/sklearn/decomposition/_nmf.py:1076: ConvergenceWarning: Maximum number of iterations 200 reached. Increase it to improve convergence.\n",
      "  warnings.warn(\"Maximum number of iterations %d reached. Increase it to\"\n"
     ]
    },
    {
     "name": "stdout",
     "output_type": "stream",
     "text": [
      "0.75 %    <---------  Time --> 0.43 s\n"
     ]
    },
    {
     "name": "stderr",
     "output_type": "stream",
     "text": [
      "/home/man3/.local/lib/python3.8/site-packages/sklearn/decomposition/_nmf.py:1076: ConvergenceWarning: Maximum number of iterations 200 reached. Increase it to improve convergence.\n",
      "  warnings.warn(\"Maximum number of iterations %d reached. Increase it to\"\n"
     ]
    },
    {
     "name": "stdout",
     "output_type": "stream",
     "text": [
      "0.75 %                Time --> 0.49 s\n"
     ]
    },
    {
     "name": "stderr",
     "output_type": "stream",
     "text": [
      "/home/man3/.local/lib/python3.8/site-packages/sklearn/decomposition/_nmf.py:1076: ConvergenceWarning: Maximum number of iterations 200 reached. Increase it to improve convergence.\n",
      "  warnings.warn(\"Maximum number of iterations %d reached. Increase it to\"\n"
     ]
    },
    {
     "name": "stdout",
     "output_type": "stream",
     "text": [
      "0.75 %                Time --> 0.50 s\n"
     ]
    },
    {
     "name": "stderr",
     "output_type": "stream",
     "text": [
      "/home/man3/.local/lib/python3.8/site-packages/sklearn/decomposition/_nmf.py:1076: ConvergenceWarning: Maximum number of iterations 200 reached. Increase it to improve convergence.\n",
      "  warnings.warn(\"Maximum number of iterations %d reached. Increase it to\"\n"
     ]
    },
    {
     "name": "stdout",
     "output_type": "stream",
     "text": [
      "0.76 %                Time --> 0.53 s\n"
     ]
    },
    {
     "name": "stderr",
     "output_type": "stream",
     "text": [
      "/home/man3/.local/lib/python3.8/site-packages/sklearn/decomposition/_nmf.py:1076: ConvergenceWarning: Maximum number of iterations 200 reached. Increase it to improve convergence.\n",
      "  warnings.warn(\"Maximum number of iterations %d reached. Increase it to\"\n"
     ]
    },
    {
     "name": "stdout",
     "output_type": "stream",
     "text": [
      "0.74 %                Time --> 0.68 s\n"
     ]
    },
    {
     "name": "stderr",
     "output_type": "stream",
     "text": [
      "/home/man3/.local/lib/python3.8/site-packages/sklearn/decomposition/_nmf.py:1076: ConvergenceWarning: Maximum number of iterations 200 reached. Increase it to improve convergence.\n",
      "  warnings.warn(\"Maximum number of iterations %d reached. Increase it to\"\n"
     ]
    },
    {
     "name": "stdout",
     "output_type": "stream",
     "text": [
      "0.74 %                Time --> 0.65 s\n"
     ]
    },
    {
     "name": "stderr",
     "output_type": "stream",
     "text": [
      "/home/man3/.local/lib/python3.8/site-packages/sklearn/decomposition/_nmf.py:1076: ConvergenceWarning: Maximum number of iterations 200 reached. Increase it to improve convergence.\n",
      "  warnings.warn(\"Maximum number of iterations %d reached. Increase it to\"\n"
     ]
    },
    {
     "name": "stdout",
     "output_type": "stream",
     "text": [
      "0.67 %                Time --> 0.76 s\n"
     ]
    },
    {
     "name": "stderr",
     "output_type": "stream",
     "text": [
      "/home/man3/.local/lib/python3.8/site-packages/sklearn/decomposition/_nmf.py:1076: ConvergenceWarning: Maximum number of iterations 200 reached. Increase it to improve convergence.\n",
      "  warnings.warn(\"Maximum number of iterations %d reached. Increase it to\"\n"
     ]
    },
    {
     "name": "stdout",
     "output_type": "stream",
     "text": [
      "0.69 %                Time --> 0.85 s\n"
     ]
    },
    {
     "name": "stderr",
     "output_type": "stream",
     "text": [
      "/home/man3/.local/lib/python3.8/site-packages/sklearn/decomposition/_nmf.py:1076: ConvergenceWarning: Maximum number of iterations 200 reached. Increase it to improve convergence.\n",
      "  warnings.warn(\"Maximum number of iterations %d reached. Increase it to\"\n"
     ]
    },
    {
     "name": "stdout",
     "output_type": "stream",
     "text": [
      "0.69 %                Time --> 0.87 s\n"
     ]
    },
    {
     "name": "stderr",
     "output_type": "stream",
     "text": [
      "/home/man3/.local/lib/python3.8/site-packages/sklearn/decomposition/_nmf.py:1076: ConvergenceWarning: Maximum number of iterations 200 reached. Increase it to improve convergence.\n",
      "  warnings.warn(\"Maximum number of iterations %d reached. Increase it to\"\n"
     ]
    },
    {
     "name": "stdout",
     "output_type": "stream",
     "text": [
      "0.68 %                Time --> 0.92 s\n",
      "\n",
      "TiempoTotal --> 8.02 s\n"
     ]
    }
   ],
   "source": [
    "# Le cuesta mucho calcular los últimos términos, lo ejecuto limitado a 200 iteraciones\n",
    "start = timer()\n",
    "for i in range(1, nfeat):\n",
    "    lapstart = timer()\n",
    "    model = NMF(n_components=i, init='random', random_state=0)\n",
    "    reduced_data = model.fit_transform(database)\n",
    "    recover = model.inverse_transform(reduced_data)\n",
    "    error = compute_error(database, recover)\n",
    "    lapend = timer()\n",
    "    if (i == nindep):\n",
    "        print(\"%2.2f\" % (error*100) + \" %\" + \"    <---------\"+ \"  Time --> %.2f\" % (lapend - lapstart) + \" s\")\n",
    "    else:\n",
    "        print(\"%2.2f\" % (error*100) + \" %\"+\"              \"+ \"  Time --> %.2f\" % (lapend - lapstart) + \" s\")\n",
    "    \n",
    "end = timer()\n",
    "print(\"\\nTiempoTotal --> %.2f\" % (end - start) + \" s\")"
   ]
  },
  {
   "cell_type": "code",
   "execution_count": 109,
   "metadata": {},
   "outputs": [
    {
     "name": "stdout",
     "output_type": "stream",
     "text": [
      "28.17 %                Time --> 0.25 s\n",
      "22.18 %                Time --> 0.69 s\n",
      "16.27 %                Time --> 0.36 s\n",
      "8.84 %                Time --> 0.39 s\n",
      "0.75 %    <---------  Time --> 0.54 s\n",
      "0.75 %                Time --> 0.73 s\n",
      "0.68 %                Time --> 5.10 s\n",
      "0.60 %                Time --> 10.25 s\n",
      "0.50 %                Time --> 9.66 s\n",
      "0.48 %                Time --> 8.86 s\n",
      "0.34 %                Time --> 12.97 s\n",
      "0.33 %                Time --> 10.59 s\n",
      "0.30 %                Time --> 9.06 s\n",
      "0.29 %                Time --> 10.86 s\n",
      "\n",
      "TiempoTotal --> 80.32 s\n"
     ]
    }
   ],
   "source": [
    "# Le cuesta mucho calcular los últimos términos, le dejo ejecutar hasta el final\n",
    "start = timer()\n",
    "for i in range(1, nfeat):\n",
    "    lapstart = timer()\n",
    "    model = NMF(n_components=i, init='random', random_state=0, max_iter = 10000)\n",
    "    reduced_data = model.fit_transform(database)\n",
    "    recover = model.inverse_transform(reduced_data)\n",
    "    error = compute_error(database, recover)\n",
    "    lapend = timer()\n",
    "    if (i == nindep):\n",
    "        print(\"%2.2f\" % (error*100) + \" %\" + \"    <---------\"+ \"  Time --> %.2f\" % (lapend - lapstart) + \" s\")\n",
    "    else:\n",
    "        print(\"%2.2f\" % (error*100) + \" %\"+\"              \"+ \"  Time --> %.2f\" % (lapend - lapstart) + \" s\")\n",
    "    \n",
    "end = timer()\n",
    "print(\"\\nTiempoTotal --> %.2f\" % (end - start) + \" s\")"
   ]
  },
  {
   "cell_type": "code",
   "execution_count": 110,
   "metadata": {},
   "outputs": [
    {
     "name": "stdout",
     "output_type": "stream",
     "text": [
      "0.00748678938269072\n"
     ]
    }
   ],
   "source": [
    "model = NMF(n_components=nindep, init='random', random_state=0, max_iter=10000)\n",
    "reduced_data = model.fit_transform(database)\n",
    "recover = model.inverse_transform(reduced_data)\n",
    "error = compute_error(database, recover)\n",
    "print(error)"
   ]
  }
 ],
 "metadata": {
  "kernelspec": {
   "display_name": "Python 3",
   "language": "python",
   "name": "python3"
  },
  "language_info": {
   "codemirror_mode": {
    "name": "ipython",
    "version": 3
   },
   "file_extension": ".py",
   "mimetype": "text/x-python",
   "name": "python",
   "nbconvert_exporter": "python",
   "pygments_lexer": "ipython3",
   "version": "3.8.2"
  }
 },
 "nbformat": 4,
 "nbformat_minor": 4
}
