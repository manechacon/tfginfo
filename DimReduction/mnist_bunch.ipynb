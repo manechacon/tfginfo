{
 "cells": [
  {
   "cell_type": "code",
   "execution_count": 2,
   "metadata": {},
   "outputs": [],
   "source": [
    "import gzip\n",
    "import pickle\n",
    "import matplotlib.pyplot as plt\n",
    "from sklearn.decomposition import PCA\n",
    "from sklearn.decomposition import NMF\n",
    "from sklearn.decomposition import FastICA\n",
    "import numpy as np\n",
    "from scipy.linalg import svd\n",
    "\n",
    "from timeit import default_timer as timer"
   ]
  },
  {
   "cell_type": "code",
   "execution_count": 2,
   "metadata": {},
   "outputs": [],
   "source": [
    "f_pickle = \"mnist_32.bnch\"\n",
    "f = gzip.open(f_pickle, mode='rb')\n",
    "bnch = pickle.load(f)\n",
    "f.close()"
   ]
  },
  {
   "cell_type": "code",
   "execution_count": 3,
   "metadata": {},
   "outputs": [
    {
     "name": "stdout",
     "output_type": "stream",
     "text": [
      "dict_keys(['DESCR', 'data', 'target', 'data_test', 'target_test'])\n"
     ]
    }
   ],
   "source": [
    "print(bnch.keys())"
   ]
  },
  {
   "cell_type": "code",
   "execution_count": 4,
   "metadata": {},
   "outputs": [
    {
     "name": "stdout",
     "output_type": "stream",
     "text": [
      "MNIST data set from Lecun site: http://yann.lecun.com/exdb/mnist/\n"
     ]
    }
   ],
   "source": [
    "print(bnch['DESCR'])"
   ]
  },
  {
   "cell_type": "code",
   "execution_count": 5,
   "metadata": {},
   "outputs": [
    {
     "name": "stdout",
     "output_type": "stream",
     "text": [
      "(60000, 32, 32, 1)\n"
     ]
    }
   ],
   "source": [
    "print(bnch['data'].shape)"
   ]
  },
  {
   "cell_type": "code",
   "execution_count": 6,
   "metadata": {},
   "outputs": [
    {
     "name": "stdout",
     "output_type": "stream",
     "text": [
      "(60000,)\n"
     ]
    }
   ],
   "source": [
    "print(bnch['target'].shape)"
   ]
  },
  {
   "cell_type": "code",
   "execution_count": 18,
   "metadata": {},
   "outputs": [],
   "source": [
    "SAMPLE = 9\n",
    "NFEAT = 40"
   ]
  },
  {
   "cell_type": "code",
   "execution_count": 19,
   "metadata": {},
   "outputs": [
    {
     "data": {
      "image/png": "[encoded data removed]",
      "text/plain": [
       "<Figure size 432x288 with 1 Axes>"
      ]
     },
     "metadata": {
      "needs_background": "light"
     },
     "output_type": "display_data"
    },
    {
     "name": "stdout",
     "output_type": "stream",
     "text": [
      "4\n"
     ]
    }
   ],
   "source": [
    "# pick a sample to plot\n",
    "sample = SAMPLE\n",
    "image = bnch['data'][sample]\n",
    "\n",
    "# plot the sample\n",
    "fig = plt.figure\n",
    "plt.imshow(image, cmap='gray_r')\n",
    "plt.show()\n",
    "print(bnch['target'][sample])"
   ]
  },
  {
   "cell_type": "markdown",
   "metadata": {},
   "source": [
    "## PCA en MNIST "
   ]
  },
  {
   "cell_type": "code",
   "execution_count": 5,
   "metadata": {},
   "outputs": [
    {
     "name": "stdout",
     "output_type": "stream",
     "text": [
      "(60000, 32, 32, 1)\n"
     ]
    },
    {
     "ename": "NameError",
     "evalue": "name 'NFEAT' is not defined",
     "output_type": "error",
     "traceback": [
      "\u001b[0;31m---------------------------------------------------------------------------\u001b[0m",
      "\u001b[0;31mNameError\u001b[0m                                 Traceback (most recent call last)",
      "\u001b[0;32m<ipython-input-5-dbe6c713e63e>\u001b[0m in \u001b[0;36m<module>\u001b[0;34m\u001b[0m\n\u001b[1;32m      5\u001b[0m \u001b[0mprint\u001b[0m\u001b[0;34m(\u001b[0m\u001b[0mdata\u001b[0m\u001b[0;34m.\u001b[0m\u001b[0mshape\u001b[0m\u001b[0;34m)\u001b[0m\u001b[0;34m\u001b[0m\u001b[0;34m\u001b[0m\u001b[0m\n\u001b[1;32m      6\u001b[0m \u001b[0mdata\u001b[0m \u001b[0;34m=\u001b[0m \u001b[0mnp\u001b[0m\u001b[0;34m.\u001b[0m\u001b[0marray\u001b[0m\u001b[0;34m(\u001b[0m\u001b[0mdata\u001b[0m\u001b[0;34m)\u001b[0m\u001b[0;34m.\u001b[0m\u001b[0mreshape\u001b[0m\u001b[0;34m(\u001b[0m\u001b[0mN\u001b[0m\u001b[0;34m,\u001b[0m \u001b[0mM\u001b[0m\u001b[0;34m*\u001b[0m\u001b[0mM\u001b[0m\u001b[0;34m)\u001b[0m\u001b[0;34m\u001b[0m\u001b[0;34m\u001b[0m\u001b[0m\n\u001b[0;32m----> 7\u001b[0;31m \u001b[0mpca\u001b[0m \u001b[0;34m=\u001b[0m \u001b[0mPCA\u001b[0m\u001b[0;34m(\u001b[0m\u001b[0mn_components\u001b[0m\u001b[0;34m=\u001b[0m\u001b[0mNFEAT\u001b[0m\u001b[0;34m)\u001b[0m\u001b[0;34m\u001b[0m\u001b[0;34m\u001b[0m\u001b[0m\n\u001b[0m\u001b[1;32m      8\u001b[0m \u001b[0mreduced_data\u001b[0m \u001b[0;34m=\u001b[0m \u001b[0mpca\u001b[0m\u001b[0;34m.\u001b[0m\u001b[0mfit_transform\u001b[0m\u001b[0;34m(\u001b[0m\u001b[0mdata\u001b[0m\u001b[0;34m)\u001b[0m\u001b[0;34m\u001b[0m\u001b[0;34m\u001b[0m\u001b[0m\n\u001b[1;32m      9\u001b[0m \u001b[0mcov\u001b[0m \u001b[0;34m=\u001b[0m \u001b[0mpca\u001b[0m\u001b[0;34m.\u001b[0m\u001b[0mget_covariance\u001b[0m\u001b[0;34m(\u001b[0m\u001b[0;34m)\u001b[0m\u001b[0;34m\u001b[0m\u001b[0;34m\u001b[0m\u001b[0m\n",
      "\u001b[0;31mNameError\u001b[0m: name 'NFEAT' is not defined"
     ]
    }
   ],
   "source": [
    "start = timer()\n",
    "data = bnch['data']\n",
    "N = data.shape[0]\n",
    "M = data.shape[1]\n",
    "print(data.shape)\n",
    "data = np.array(data).reshape(N, M*M)\n",
    "pca = PCA(n_components=NFEAT)\n",
    "reduced_data = pca.fit_transform(data)\n",
    "cov = pca.get_covariance()\n",
    "recoverPCA = pca.inverse_transform(reduced_data)\n",
    "recoverPCA = np.array(recoverPCA).reshape(N, M, M, 1)\n",
    "print(cov.shape)\n",
    "U, s, VT = svd(cov)\n",
    "print(s[:NFEAT*2])\n",
    "end = timer()\n",
    "print(\"\\nTiempo --> %.2f\" % (end - start) + \" s\")"
   ]
  },
  {
   "cell_type": "code",
   "execution_count": 39,
   "metadata": {},
   "outputs": [
    {
     "data": {
      "text/plain": [
       "[<matplotlib.lines.Line2D at 0x7f48c6473340>]"
      ]
     },
     "execution_count": 39,
     "metadata": {},
     "output_type": "execute_result"
    },
    {
     "data": {
      "image/png": "[encoded data removed]",
      "text/plain": [
       "<Figure size 432x288 with 1 Axes>"
      ]
     },
     "metadata": {
      "needs_background": "light"
     },
     "output_type": "display_data"
    }
   ],
   "source": [
    "plt.yscale(\"log\")\n",
    "plt.plot((s[:100]*s[:100])/745)\n",
    "# Repasar como coger cierto porcentaje de varianza según el nª de autovalores"
   ]
  },
  {
   "cell_type": "code",
   "execution_count": 20,
   "metadata": {},
   "outputs": [
    {
     "data": {
      "image/png": "[encoded data removed]",
      "text/plain": [
       "<Figure size 432x288 with 1 Axes>"
      ]
     },
     "metadata": {
      "needs_background": "light"
     },
     "output_type": "display_data"
    },
    {
     "name": "stdout",
     "output_type": "stream",
     "text": [
      "4\n"
     ]
    }
   ],
   "source": [
    "# pick a sample to plot\n",
    "sample = SAMPLE\n",
    "image = recoverPCA[sample]\n",
    "\n",
    "# plot the sample\n",
    "fig = plt.figure\n",
    "plt.imshow(image, cmap='gray_r')\n",
    "plt.show()\n",
    "print(bnch['target'][sample])"
   ]
  },
  {
   "cell_type": "markdown",
   "metadata": {},
   "source": [
    "## NMF en MNIST"
   ]
  },
  {
   "cell_type": "code",
   "execution_count": 22,
   "metadata": {},
   "outputs": [
    {
     "name": "stderr",
     "output_type": "stream",
     "text": [
      "/home/man3/.local/lib/python3.8/site-packages/sklearn/decomposition/_nmf.py:1076: ConvergenceWarning: Maximum number of iterations 200 reached. Increase it to improve convergence.\n",
      "  warnings.warn(\"Maximum number of iterations %d reached. Increase it to\"\n"
     ]
    },
    {
     "name": "stdout",
     "output_type": "stream",
     "text": [
      "\n",
      "Tiempo --> 93.87 s\n"
     ]
    }
   ],
   "source": [
    "start = timer()\n",
    "data = bnch['data']\n",
    "N = data.shape[0]\n",
    "M = data.shape[1]\n",
    "data = np.array(data).reshape(N, M*M)\n",
    "model = NMF(n_components=NFEAT, init='random', random_state=0)\n",
    "reduced_data = model.fit_transform(data)\n",
    "recoverNMF = model.inverse_transform(reduced_data)\n",
    "recoverNMF = np.array(recoverNMF).reshape(N, M, M, 1)\n",
    "end = timer()\n",
    "print(\"\\nTiempo --> %.2f\" % (end - start) + \" s\")"
   ]
  },
  {
   "cell_type": "code",
   "execution_count": 23,
   "metadata": {},
   "outputs": [
    {
     "data": {
      "image/png": "[encoded data removed]",
      "text/plain": [
       "<Figure size 432x288 with 1 Axes>"
      ]
     },
     "metadata": {
      "needs_background": "light"
     },
     "output_type": "display_data"
    },
    {
     "name": "stdout",
     "output_type": "stream",
     "text": [
      "4\n"
     ]
    }
   ],
   "source": [
    "# pick a sample to plot\n",
    "sample = SAMPLE\n",
    "image = recoverNMF[sample]\n",
    "\n",
    "# plot the sample\n",
    "fig = plt.figure\n",
    "plt.imshow(image, cmap='gray_r')\n",
    "plt.show()\n",
    "print(bnch['target'][sample])"
   ]
  },
  {
   "cell_type": "markdown",
   "metadata": {},
   "source": [
    "## ICA en MNIST"
   ]
  },
  {
   "cell_type": "markdown",
   "metadata": {},
   "source": [
    "### Arquitectura 1"
   ]
  },
  {
   "cell_type": "code",
   "execution_count": 28,
   "metadata": {},
   "outputs": [
    {
     "name": "stdout",
     "output_type": "stream",
     "text": [
      "(60000, 1024)\n",
      "(60000, 1024)\n",
      "\n",
      "Tiempo --> 36.38 s\n"
     ]
    }
   ],
   "source": [
    "## Produce imágenes bases estadísticamente independientes\n",
    "\n",
    "start = timer()\n",
    "data = bnch['data']\n",
    "N = data.shape[0]\n",
    "M = data.shape[1]\n",
    "data = np.array(data).reshape(N, M*M)\n",
    "print(data.shape)\n",
    "transformer = FastICA(n_components=40, random_state=0)\n",
    "reduced_data = transformer.fit_transform(data)\n",
    "recoverICA = transformer.inverse_transform(reduced_data)\n",
    "print(recoverICA.shape)\n",
    "recoverICA = np.array(recoverICA).reshape(N, M, M, 1)\n",
    "end = timer()\n",
    "print(\"\\nTiempo --> %.2f\" % (end - start) + \" s\")"
   ]
  },
  {
   "cell_type": "code",
   "execution_count": 29,
   "metadata": {},
   "outputs": [
    {
     "data": {
      "image/png": "[encoded data removed]",
      "text/plain": [
       "<Figure size 432x288 with 1 Axes>"
      ]
     },
     "metadata": {
      "needs_background": "light"
     },
     "output_type": "display_data"
    },
    {
     "name": "stdout",
     "output_type": "stream",
     "text": [
      "4\n"
     ]
    }
   ],
   "source": [
    "# pick a sample to plot\n",
    "sample = SAMPLE\n",
    "image = recoverICA[sample]\n",
    "\n",
    "# plot the sample\n",
    "fig = plt.figure\n",
    "plt.imshow(image, cmap='gray_r')\n",
    "plt.show()\n",
    "print(bnch['target'][sample])"
   ]
  },
  {
   "cell_type": "markdown",
   "metadata": {},
   "source": [
    "### Arquitectura 2"
   ]
  },
  {
   "cell_type": "code",
   "execution_count": 30,
   "metadata": {},
   "outputs": [
    {
     "name": "stdout",
     "output_type": "stream",
     "text": [
      "(1024, 60000)\n",
      "(60000, 1024)\n",
      "\n",
      "Tiempo --> 40.61 s\n"
     ]
    }
   ],
   "source": [
    "## Encuentra una representación en la cual los coeficientes usados para\n",
    "## codificar las imágenes(los pixeles) son estadísticamente independientes\n",
    "\n",
    "start = timer()\n",
    "data = bnch['data']\n",
    "N = data.shape[0]\n",
    "M = data.shape[1]\n",
    "data = np.array(data).reshape(N, M*M)\n",
    "data = np.transpose(data)\n",
    "print(data.shape)\n",
    "transformer = FastICA(n_components=40, random_state=0)\n",
    "reduced_data = transformer.fit_transform(data)\n",
    "recoverICA2 = transformer.inverse_transform(reduced_data)\n",
    "recoverICA2 = np.transpose(recoverICA2)\n",
    "print(recoverICA2.shape)\n",
    "recoverICA2 = np.array(recoverICA2).reshape(N, M, M, 1)\n",
    "end = timer()\n",
    "print(\"\\nTiempo --> %.2f\" % (end - start) + \" s\")"
   ]
  },
  {
   "cell_type": "code",
   "execution_count": 31,
   "metadata": {},
   "outputs": [
    {
     "data": {
      "image/png": "[encoded data removed]",
      "text/plain": [
       "<Figure size 432x288 with 1 Axes>"
      ]
     },
     "metadata": {
      "needs_background": "light"
     },
     "output_type": "display_data"
    },
    {
     "name": "stdout",
     "output_type": "stream",
     "text": [
      "4\n"
     ]
    }
   ],
   "source": [
    "# pick a sample to plot\n",
    "sample = SAMPLE\n",
    "image = recoverICA2[sample]\n",
    "\n",
    "# plot the sample\n",
    "fig = plt.figure\n",
    "plt.imshow(image, cmap='gray_r')\n",
    "plt.show()\n",
    "print(bnch['target'][sample])"
   ]
  },
  {
   "cell_type": "markdown",
   "metadata": {},
   "source": [
    "PRUEBA 1"
   ]
  },
  {
   "cell_type": "code",
   "execution_count": 32,
   "metadata": {},
   "outputs": [
    {
     "name": "stdout",
     "output_type": "stream",
     "text": [
      "(60000, 1024)\n",
      "(60000, 1024)\n",
      "\n",
      "Tiempo --> 44.63 s\n"
     ]
    }
   ],
   "source": [
    "start = timer()\n",
    "data = bnch['data']\n",
    "N = data.shape[0]\n",
    "M = data.shape[1]\n",
    "data = np.array(data).reshape(N, M*M)\n",
    "print(data.shape)\n",
    "transformer = FastICA(n_components=40, random_state=0, algorithm='parallel')\n",
    "reduced_data = transformer.fit_transform(data)\n",
    "recoverICAP = transformer.inverse_transform(reduced_data)\n",
    "print(recoverICAP.shape)\n",
    "recoverICAP = np.array(recoverICAP).reshape(N, M, M, 1)\n",
    "end = timer()\n",
    "print(\"\\nTiempo --> %.2f\" % (end - start) + \" s\")"
   ]
  },
  {
   "cell_type": "code",
   "execution_count": 33,
   "metadata": {},
   "outputs": [
    {
     "data": {
      "image/png": "[encoded data removed]",
      "text/plain": [
       "<Figure size 432x288 with 1 Axes>"
      ]
     },
     "metadata": {
      "needs_background": "light"
     },
     "output_type": "display_data"
    },
    {
     "name": "stdout",
     "output_type": "stream",
     "text": [
      "4\n"
     ]
    }
   ],
   "source": [
    "# pick a sample to plot\n",
    "sample = SAMPLE\n",
    "image = recoverICAP[sample]\n",
    "\n",
    "# plot the sample\n",
    "fig = plt.figure\n",
    "plt.imshow(image, cmap='gray_r')\n",
    "plt.show()\n",
    "print(bnch['target'][sample])"
   ]
  },
  {
   "cell_type": "markdown",
   "metadata": {},
   "source": [
    "PRUEBA 2"
   ]
  },
  {
   "cell_type": "code",
   "execution_count": 10,
   "metadata": {},
   "outputs": [
    {
     "name": "stdout",
     "output_type": "stream",
     "text": [
      "(60000, 1024)\n",
      "(60000, 1024)\n",
      "\n",
      "Tiempo --> 157.68 s\n"
     ]
    }
   ],
   "source": [
    "start = timer()\n",
    "data = bnch['data']\n",
    "N = data.shape[0]\n",
    "M = data.shape[1]\n",
    "data = np.array(data).reshape(N, M*M)\n",
    "print(data.shape)\n",
    "transformer = FastICA(n_components=40, random_state=0, algorithm='deflation', max_iter=10)\n",
    "reduced_data = transformer.fit_transform(data)\n",
    "recoverICAD = transformer.inverse_transform(reduced_data)\n",
    "print(recoverICAD.shape)\n",
    "recoverICAD = np.array(recoverICAD).reshape(N, M, M, 1)\n",
    "end = timer()\n",
    "print(\"\\nTiempo --> %.2f\" % (end - start) + \" s\")"
   ]
  },
  {
   "cell_type": "code",
   "execution_count": 27,
   "metadata": {},
   "outputs": [
    {
     "data": {
      "image/png": "[encoded data removed]",
      "text/plain": [
       "<Figure size 432x288 with 1 Axes>"
      ]
     },
     "metadata": {
      "needs_background": "light"
     },
     "output_type": "display_data"
    },
    {
     "name": "stdout",
     "output_type": "stream",
     "text": [
      "4\n"
     ]
    }
   ],
   "source": [
    "# pick a sample to plot\n",
    "sample = SAMPLE\n",
    "image = recoverICAD[sample]\n",
    "\n",
    "# plot the sample\n",
    "fig = plt.figure\n",
    "plt.imshow(image, cmap='gray_r')\n",
    "plt.show()\n",
    "print(bnch['target'][sample])"
   ]
  },
  {
   "cell_type": "markdown",
   "metadata": {},
   "source": [
    "SCRIPT PARA EOLO (Este análisis previamente se probará en general y posteriormente se agrupará según el número, el número media?)\n",
    "- Almacenar la S, autovalores, y sacar la fórmula de la varianza que se pierde.\n",
    "- Almacenar los datos de cada algoritmo en un diccionario.l número estandar?\n",
    "    Necesitamos: Tiempo que tarda, ECM y Recover. "
   ]
  },
  {
   "cell_type": "code",
   "execution_count": null,
   "metadata": {},
   "outputs": [],
   "source": [
    "## Leemos los datos del fichero\n",
    "f_pickle = \"mnist_32.bnch\"\n",
    "f = gzip.open(f_pickle, mode='rb')\n",
    "bnch = pickle.load(f)\n",
    "f.close()\n",
    "data = bnch['data']\n",
    "N, M = data.shape\n",
    "data = np.array(data).reshape(N, M*M)\n",
    "\n",
    "## Calculamos SVD de nuestra BBDD.\n",
    "U, s, VT = svd(data)\n",
    "print(s, s.shape)\n",
    "\n",
    "## Aplicamos PCA\n",
    "start = timer()\n",
    "pca = PCA(n_components=NFEAT)\n",
    "reduced_data = pca.fit_transform(data)\n",
    "cov = pca.get_covariance()\n",
    "recoverPCA = pca.inverse_transform(reduced_data)\n",
    "recoverPCA = np.array(recoverPCA).reshape(N, M, M, 1)\n",
    "print(cov.shape)\n",
    "U, s, VT = svd(cov)\n",
    "print(s[:NFEAT*2]/745)\n",
    "end = timer()\n",
    "timePCA = (end - start) \n",
    "\n",
    "## Aplicamos NMF\n",
    "start = timer()\n",
    "model = NMF(n_components=NFEAT, init='random', random_state=0)\n",
    "reduced_data = model.fit_transform(data)\n",
    "recoverNMF = model.inverse_transform(reduced_data)\n",
    "recoverNMF = np.array(recoverNMF).reshape(N, M, M, 1)\n",
    "end = timer()\n",
    "timeNMF = (end - start) \n",
    "\n",
    "\n",
    "## Aplicamos ICA\n",
    "start = timer()\n",
    "transformer = FastICA(n_components=40, random_state=0)\n",
    "reduced_data = transformer.fit_transform(data)\n",
    "recoverICA = transformer.inverse_transform(reduced_data)\n",
    "print(recoverICA.shape)\n",
    "recoverICA = np.array(recoverICA).reshape(N, M, M, 1)\n",
    "end = timer()\n",
    "timeICA = (end - start) "
   ]
  },
  {
   "cell_type": "code",
   "execution_count": 4,
   "metadata": {},
   "outputs": [
    {
     "name": "stdout",
     "output_type": "stream",
     "text": [
      "[[], [], [], [], [], [], [], [], [], []]\n"
     ]
    },
    {
     "ename": "AttributeError",
     "evalue": "'list' object has no attribute 'shape'",
     "output_type": "error",
     "traceback": [
      "\u001b[0;31m---------------------------------------------------------------------------\u001b[0m",
      "\u001b[0;31mAttributeError\u001b[0m                            Traceback (most recent call last)",
      "\u001b[0;32m<ipython-input-4-27439c7dee5a>\u001b[0m in \u001b[0;36m<module>\u001b[0;34m\u001b[0m\n\u001b[1;32m      9\u001b[0m \u001b[0;32mfor\u001b[0m \u001b[0mj\u001b[0m \u001b[0;32min\u001b[0m \u001b[0mrange\u001b[0m\u001b[0;34m(\u001b[0m\u001b[0mlen\u001b[0m\u001b[0;34m(\u001b[0m\u001b[0mbnch\u001b[0m\u001b[0;34m[\u001b[0m\u001b[0;34m'target'\u001b[0m\u001b[0;34m]\u001b[0m\u001b[0;34m)\u001b[0m\u001b[0;34m)\u001b[0m\u001b[0;34m:\u001b[0m\u001b[0;34m\u001b[0m\u001b[0;34m\u001b[0m\u001b[0m\n\u001b[1;32m     10\u001b[0m     \u001b[0mL\u001b[0m\u001b[0;34m[\u001b[0m\u001b[0mbnch\u001b[0m\u001b[0;34m[\u001b[0m\u001b[0;34m'target'\u001b[0m\u001b[0;34m]\u001b[0m\u001b[0;34m[\u001b[0m\u001b[0mj\u001b[0m\u001b[0;34m]\u001b[0m\u001b[0;34m]\u001b[0m\u001b[0;34m.\u001b[0m\u001b[0mappend\u001b[0m\u001b[0;34m(\u001b[0m\u001b[0mbnch\u001b[0m\u001b[0;34m[\u001b[0m\u001b[0;34m'data'\u001b[0m\u001b[0;34m]\u001b[0m\u001b[0;34m[\u001b[0m\u001b[0mj\u001b[0m\u001b[0;34m]\u001b[0m\u001b[0;34m)\u001b[0m\u001b[0;34m\u001b[0m\u001b[0;34m\u001b[0m\u001b[0m\n\u001b[0;32m---> 11\u001b[0;31m \u001b[0mprint\u001b[0m\u001b[0;34m(\u001b[0m\u001b[0mL\u001b[0m\u001b[0;34m.\u001b[0m\u001b[0mshape\u001b[0m\u001b[0;34m)\u001b[0m\u001b[0;34m\u001b[0m\u001b[0;34m\u001b[0m\u001b[0m\n\u001b[0m\u001b[1;32m     12\u001b[0m \u001b[0mf\u001b[0m\u001b[0;34m.\u001b[0m\u001b[0mclose\u001b[0m\u001b[0;34m(\u001b[0m\u001b[0;34m)\u001b[0m\u001b[0;34m\u001b[0m\u001b[0;34m\u001b[0m\u001b[0m\n",
      "\u001b[0;31mAttributeError\u001b[0m: 'list' object has no attribute 'shape'"
     ]
    }
   ],
   "source": [
    "## Leemos los datos del fichero\n",
    "f_pickle = \"mnist_32.bnch\"\n",
    "f = gzip.open(f_pickle, mode='rb')\n",
    "bnch = pickle.load(f)\n",
    "L = []\n",
    "for i in range (10):\n",
    "    L.append([])\n",
    "print(L)\n",
    "for j in range(len(bnch['target'])):\n",
    "    L[bnch['target'][j]].append(bnch['data'][j])\n",
    "f.close()"
   ]
  },
  {
   "cell_type": "code",
   "execution_count": null,
   "metadata": {},
   "outputs": [],
   "source": []
  }
 ],
 "metadata": {
  "kernelspec": {
   "display_name": "Python 3",
   "language": "python",
   "name": "python3"
  },
  "language_info": {
   "codemirror_mode": {
    "name": "ipython",
    "version": 3
   },
   "file_extension": ".py",
   "mimetype": "text/x-python",
   "name": "python",
   "nbconvert_exporter": "python",
   "pygments_lexer": "ipython3",
   "version": "3.8.2"
  }
 },
 "nbformat": 4,
 "nbformat_minor": 4
}
