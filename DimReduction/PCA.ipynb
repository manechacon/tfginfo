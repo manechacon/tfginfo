{
 "cells": [
  {
   "cell_type": "code",
   "execution_count": 87,
   "metadata": {},
   "outputs": [],
   "source": [
    "import numpy as np\n",
    "import random\n",
    "from sklearn.decomposition import PCA"
   ]
  },
  {
   "cell_type": "code",
   "execution_count": 88,
   "metadata": {},
   "outputs": [],
   "source": [
    "def fill_data(ndata, nfeat, absmax_val, absmax_err, absmax_mult):\n",
    "    data = np.zeros((ndata, nfeat))\n",
    "    for j in range(nfeat):\n",
    "        if j < (nfeat/2):\n",
    "            for i in range (ndata):\n",
    "                random.seed()\n",
    "                data[i][j] = random.uniform(-absmax_val, absmax_val)\n",
    "        else:\n",
    "            random.seed()\n",
    "            mult = random.uniform(-absmax_mult, absmax_mult)\n",
    "            for i in range (1000):\n",
    "                random.seed()\n",
    "                err = random.uniform(-absmax_err, absmax_err)\n",
    "                data[i][j] = data[i][j-4] * mult + err\n",
    "    return data"
   ]
  },
  {
   "cell_type": "code",
   "execution_count": 89,
   "metadata": {},
   "outputs": [],
   "source": [
    "absmax_val = 10\n",
    "absmax_err = 0.5\n",
    "absmax_mult = 5\n",
    "database = fill_data(1000, 10, absmax_val, absmax_err, absmax_mult)"
   ]
  },
  {
   "cell_type": "code",
   "execution_count": 90,
   "metadata": {},
   "outputs": [
    {
     "name": "stdout",
     "output_type": "stream",
     "text": [
      "[[ -5.56218672   3.74651353  -5.25356645 ...  -7.51015166 -13.56173039\n",
      "   18.47660516]\n",
      " [ -8.96488049  -5.20579556   4.3383639  ...   9.59242913 -13.36555996\n",
      "  -24.37902345]\n",
      " [  6.92056547  -4.81056196   8.1526034  ...   6.40931327  -9.6390775\n",
      "  -22.86902407]\n",
      " ...\n",
      " [  2.34140302   1.06855788  -5.07875902 ... -12.9460774  -11.03942237\n",
      "    5.36495787]\n",
      " [  6.11810288  -3.13052182  -8.09125241 ...   5.89951087   6.13712397\n",
      "  -15.58581062]\n",
      " [  9.96488035   2.26377062  -8.93852912 ...  -7.95654771 -23.39116652\n",
      "   12.48210927]]\n"
     ]
    }
   ],
   "source": [
    "print(database)"
   ]
  },
  {
   "cell_type": "code",
   "execution_count": 91,
   "metadata": {},
   "outputs": [
    {
     "name": "stdout",
     "output_type": "stream",
     "text": [
      "[[-18.24969204 -17.98383994 -16.15022215  -6.78734054  -5.27714665]\n",
      " [ 25.45247285  19.11188513 -12.68656614  12.33847692  -8.80205708]\n",
      " [ 23.24341835  32.62606421  -7.98884087   7.7779666    6.9876505 ]\n",
      " ...\n",
      " [ -4.51075951 -16.69636979 -13.97505669 -13.65151961   2.45094225]\n",
      " [ 18.74229088 -27.08464269   5.02540746   7.80592813   6.49285855]\n",
      " [-11.38140552 -29.88068212 -27.72796032  -6.34570745  10.24144254]]\n"
     ]
    }
   ],
   "source": [
    "pca = PCA(n_components = 5)\n",
    "reduced_data = pca.fit_transform(database)\n",
    "print(reduced_data)"
   ]
  },
  {
   "cell_type": "code",
   "execution_count": 92,
   "metadata": {},
   "outputs": [
    {
     "name": "stdout",
     "output_type": "stream",
     "text": [
      "[[ -5.56242708   3.85902738  -5.33457256 ...  -7.59425998 -13.59750659\n",
      "   18.44525632]\n",
      " [ -8.96521784  -5.10038215   4.35867064 ...   9.45171792 -13.31212341\n",
      "  -24.42683287]\n",
      " [  6.92056098  -4.78152031   8.27688109 ...   6.39922483  -9.57770271\n",
      "  -22.88359629]\n",
      " ...\n",
      " [  2.34182425   1.11971795  -5.08000464 ... -12.78976529 -10.98762527\n",
      "    5.33964385]\n",
      " [  6.11840724  -3.22999107  -8.1075027  ...   6.0167815    6.14275459\n",
      "  -15.57568345]\n",
      " [  9.96506886   2.60401214  -8.99769263 ...  -7.88328583 -23.37145178\n",
      "   12.42718727]]\n"
     ]
    }
   ],
   "source": [
    "recover = pca.inverse_transform(reduced_data)\n",
    "print(recover)"
   ]
  },
  {
   "cell_type": "code",
   "execution_count": 93,
   "metadata": {},
   "outputs": [],
   "source": [
    "def compute_error(database, recover):\n",
    "    [ndata, nfeat] = database.shape\n",
    "    error = 0\n",
    "    for i in range(ndata):\n",
    "        for j in range(nfeat):\n",
    "            error = error + abs(database[i][j] - recover[i][j])\n",
    "    return error/(ndata*nfeat*absmax_val)"
   ]
  },
  {
   "cell_type": "code",
   "execution_count": 94,
   "metadata": {},
   "outputs": [
    {
     "name": "stdout",
     "output_type": "stream",
     "text": [
      "0.007074546841001783\n"
     ]
    }
   ],
   "source": [
    "error = compute_error(database, recover)\n",
    "print(error)"
   ]
  },
  {
   "cell_type": "code",
   "execution_count": 108,
   "metadata": {},
   "outputs": [
    {
     "name": "stdout",
     "output_type": "stream",
     "text": [
      "0.14707620575458907\n"
     ]
    }
   ],
   "source": [
    "cov = pca.get_covariance()\n",
    "print(cov[0][4])"
   ]
  },
  {
   "cell_type": "code",
   "execution_count": null,
   "metadata": {},
   "outputs": [],
   "source": []
  }
 ],
 "metadata": {
  "kernelspec": {
   "display_name": "Python 3",
   "language": "python",
   "name": "python3"
  },
  "language_info": {
   "codemirror_mode": {
    "name": "ipython",
    "version": 3
   },
   "file_extension": ".py",
   "mimetype": "text/x-python",
   "name": "python",
   "nbconvert_exporter": "python",
   "pygments_lexer": "ipython3",
   "version": "3.8.2"
  }
 },
 "nbformat": 4,
 "nbformat_minor": 4
}
