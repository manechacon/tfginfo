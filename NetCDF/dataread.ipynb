{
 "cells": [
  {
   "cell_type": "code",
   "execution_count": 3,
   "metadata": {},
   "outputs": [],
   "source": [
    "from netCDF4 import Dataset"
   ]
  },
  {
   "cell_type": "code",
   "execution_count": 16,
   "metadata": {},
   "outputs": [
    {
     "name": "stdout",
     "output_type": "stream",
     "text": [
      "<class 'netCDF4._netCDF4.Dataset'>\n",
      "root group (NETCDF3_CLASSIC data model, file format NETCDF3):\n",
      "    Conventions: CF-1.0\n",
      "    history: 2004-09-15 17:04:29 GMT by mars2netcdf-0.92\n",
      "    dimensions(sizes): longitude(144), latitude(73), time(62)\n",
      "    variables(dimensions): float32 longitude(longitude), float32 latitude(latitude), int32 time(time), int16 tcw(time, latitude, longitude), int16 tcwv(time, latitude, longitude), int16 lsp(time, latitude, longitude), int16 cp(time, latitude, longitude), int16 msl(time, latitude, longitude), int16 blh(time, latitude, longitude), int16 tcc(time, latitude, longitude), int16 p10u(time, latitude, longitude), int16 p10v(time, latitude, longitude), int16 p2t(time, latitude, longitude), int16 p2d(time, latitude, longitude), int16 e(time, latitude, longitude), int16 lcc(time, latitude, longitude), int16 mcc(time, latitude, longitude), int16 hcc(time, latitude, longitude), int16 tco3(time, latitude, longitude), int16 tp(time, latitude, longitude)\n",
      "    groups: \n",
      "\n",
      "\n",
      "NETCDF3_CLASSIC\n",
      "\n",
      "\n",
      "{}\n",
      "\n",
      "\n",
      "{'longitude': <class 'netCDF4._netCDF4.Dimension'>: name = 'longitude', size = 144, 'latitude': <class 'netCDF4._netCDF4.Dimension'>: name = 'latitude', size = 73, 'time': <class 'netCDF4._netCDF4.Dimension'> (unlimited): name = 'time', size = 62}\n",
      "\n",
      "\n"
     ]
    }
   ],
   "source": [
    "from netCDF4 import Dataset\n",
    "rootgrp = Dataset(\"Example/ECMWF_ERA-40_subset.nc\", \"r\", format=\"NETCDF4\")\n",
    "\n",
    "print(rootgrp)\n",
    "print(\"\\n\")\n",
    "\n",
    "print(rootgrp.data_model)\n",
    "print(\"\\n\")\n",
    "\n",
    "print(rootgrp.groups)\n",
    "print(\"\\n\")\n",
    "\n",
    "print(rootgrp.dimensions)\n",
    "print(\"\\n\")\n"
   ]
  },
  {
   "cell_type": "code",
   "execution_count": null,
   "metadata": {},
   "outputs": [],
   "source": []
  },
  {
   "cell_type": "code",
   "execution_count": null,
   "metadata": {},
   "outputs": [],
   "source": [
    "def walktree(top):\n",
    "      values = top.groups.values()\n",
    "      yield values\n",
    "      for value in top.groups.values():\n",
    "         for children in walktree(value):\n",
    "             yield children"
   ]
  }
 ],
 "metadata": {
  "kernelspec": {
   "display_name": "Python 3",
   "language": "python",
   "name": "python3"
  },
  "language_info": {
   "codemirror_mode": {
    "name": "ipython",
    "version": 3
   },
   "file_extension": ".py",
   "mimetype": "text/x-python",
   "name": "python",
   "nbconvert_exporter": "python",
   "pygments_lexer": "ipython3",
   "version": "3.8.2"
  }
 },
 "nbformat": 4,
 "nbformat_minor": 4
}
